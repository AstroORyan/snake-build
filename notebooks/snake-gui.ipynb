{
 "cells": [
  {
   "cell_type": "code",
   "execution_count": 152,
   "id": "a573d1ef-0a6e-4087-b59d-492ba967e9d4",
   "metadata": {},
   "outputs": [],
   "source": [
    "import numpy as np\n",
    "from PIL import Image\n",
    "import matplotlib.pyplot as plt\n",
    "import sys\n",
    "import time\n",
    "from IPython.display import clear_output\n",
    "import sys\n",
    "\n",
    "import tensorflow as tf"
   ]
  },
  {
   "cell_type": "code",
   "execution_count": 217,
   "id": "169d5fb0-e5ce-4611-ac96-707702565b37",
   "metadata": {},
   "outputs": [],
   "source": [
    "snake_board = np.zeros([20,20])"
   ]
  },
  {
   "cell_type": "code",
   "execution_count": 218,
   "id": "694953c5-6486-4f72-a65f-b3b9493fe5a3",
   "metadata": {},
   "outputs": [],
   "source": [
    "food_pos = np.random.randint(20), np.random.randint(20)"
   ]
  },
  {
   "cell_type": "code",
   "execution_count": 219,
   "id": "86bd4b5b-2e48-4e5e-986c-fd1736694dbf",
   "metadata": {},
   "outputs": [
    {
     "data": {
      "text/plain": [
       "(17, 5)"
      ]
     },
     "execution_count": 219,
     "metadata": {},
     "output_type": "execute_result"
    }
   ],
   "source": [
    "food_pos"
   ]
  },
  {
   "cell_type": "code",
   "execution_count": 220,
   "id": "99a4b4b0-f2f6-4167-9c23-46f7d58e9303",
   "metadata": {},
   "outputs": [],
   "source": [
    "snake_board[food_pos] = 10"
   ]
  },
  {
   "cell_type": "code",
   "execution_count": 221,
   "id": "43a518fc-3b42-4f61-8e22-5c5624741337",
   "metadata": {},
   "outputs": [],
   "source": [
    "score = 0"
   ]
  },
  {
   "cell_type": "code",
   "execution_count": 222,
   "id": "de939b7b-ed5e-49b5-b582-1c7530a01953",
   "metadata": {},
   "outputs": [
    {
     "data": {
      "image/png": "[encoded data removed]",
      "text/plain": [
       "<Figure size 600x600 with 1 Axes>"
      ]
     },
     "metadata": {},
     "output_type": "display_data"
    }
   ],
   "source": [
    "plt.figure(figsize=(6,6))\n",
    "plt.imshow(snake_board, cmap='gray')\n",
    "plt.title('Snake Game', fontsize = 15)\n",
    "plt.text(0.04, 1, 'Score = {:.0f}'.format(score), color='w', fontsize = 12)\n",
    "plt.tight_layout()\n",
    "plt.xticks([])\n",
    "plt.yticks([])\n",
    "plt.show()"
   ]
  },
  {
   "cell_type": "code",
   "execution_count": 82,
   "id": "610eae12-c12f-4bc1-bb2c-95c5be7d5117",
   "metadata": {},
   "outputs": [],
   "source": [
    "snake = (\n",
    "    [int((snake_board.shape[0]/2) + 2), int(snake_board.shape[1]/2)],\n",
    "    [int((snake_board.shape[0]/2) + 1), int(snake_board.shape[1]/2)],\n",
    "    [int((snake_board.shape[0]/2) + 0), int(snake_board.shape[1]/2)],\n",
    "    [int((snake_board.shape[0]/2) - 1), int(snake_board.shape[1]/2)]\n",
    ")"
   ]
  },
  {
   "cell_type": "code",
   "execution_count": 83,
   "id": "f9e7dffa-9fdc-467f-b892-f21e31198d60",
   "metadata": {},
   "outputs": [],
   "source": [
    "for i in snake:\n",
    "    snake_board[tuple(i)] = 5"
   ]
  },
  {
   "cell_type": "code",
   "execution_count": 228,
   "id": "1b687870-4980-4786-9eb0-101e81343603",
   "metadata": {},
   "outputs": [
    {
     "data": {
      "image/png": "[encoded data removed]",
      "text/plain": [
       "<Figure size 400x400 with 1 Axes>"
      ]
     },
     "metadata": {},
     "output_type": "display_data"
    }
   ],
   "source": [
    "plt.figure(figsize=(4,4))\n",
    "plt.imshow(snake_board, cmap='gray')\n",
    "plt.title('Snake Game', fontsize = 15)\n",
    "plt.text(0.04, 1, 'Score = {:.0f}'.format(score), color='w', fontsize = 12)\n",
    "plt.text(3, 10, 'GAME OVER', color='w', fontsize = 24, va='center')\n",
    "plt.tight_layout()\n",
    "plt.xticks([])\n",
    "plt.yticks([])\n",
    "plt.show()"
   ]
  },
  {
   "cell_type": "code",
   "execution_count": 114,
   "id": "3b1a38cc-1e20-488e-8e94-c60e2e283b15",
   "metadata": {},
   "outputs": [],
   "source": [
    "def get_acceptable_moves(mode):\n",
    "    \n",
    "    up = 0\n",
    "    right = 1\n",
    "    down = 2\n",
    "    left = 3\n",
    "    \n",
    "    \n",
    "    if mode == 'vertical_up':\n",
    "        return [up, right, left]\n",
    "    \n",
    "    if mode == 'vertical_down':\n",
    "        return [down, right, left]\n",
    "    \n",
    "    if mode == 'horizontel_left':\n",
    "        return [down, up, left]\n",
    "    \n",
    "    if mode == 'horizontel_right':\n",
    "        return [up, down, right]"
   ]
  },
  {
   "cell_type": "code",
   "execution_count": 184,
   "id": "d326b73f-25fc-4398-8024-85ee2565bf17",
   "metadata": {},
   "outputs": [],
   "source": [
    "def make_move(step, snake):\n",
    "    up = 0\n",
    "    right = 1\n",
    "    down = 2\n",
    "    left = 3\n",
    "    \n",
    "        \n",
    "    if step == up:\n",
    "        for i in range(len(snake)):\n",
    "            if i == 0:\n",
    "                prior = snake[i].copy()\n",
    "                snake[i][0] += 1\n",
    "                continue\n",
    "            \n",
    "            tmp = snake[i].copy()\n",
    "            snake[i][0] = prior[0]\n",
    "            snake[i][1] = prior[1]\n",
    "            prior = tmp         \n",
    "            \n",
    "        snake_mode = 'vertical_up'\n",
    "            \n",
    "    if step == right:\n",
    "        for i in range(len(snake)):\n",
    "            if i == 0:\n",
    "                prior = snake[i].copy()\n",
    "                snake[i][1] += 1\n",
    "                continue\n",
    "            \n",
    "            tmp = snake[i].copy()\n",
    "            snake[i][0] = prior[0]\n",
    "            snake[i][1] = prior[1]\n",
    "            prior = tmp     \n",
    "            \n",
    "        snake_mode = 'horizontel_right'\n",
    "        \n",
    "    if step == left:\n",
    "        for i in range(len(snake)):\n",
    "            if i == 0:\n",
    "                prior = snake[i].copy()\n",
    "                snake[0][1] -= 1\n",
    "                continue\n",
    "            \n",
    "            tmp = snake[i].copy()\n",
    "            snake[i][0] = prior[0]\n",
    "            snake[i][1] = prior[1]\n",
    "            prior = tmp     \n",
    "                \n",
    "        snake_mode = 'horizontel_left'\n",
    "                \n",
    "    if step == down:\n",
    "        for i in range(len(snake)):\n",
    "            if i == 0:\n",
    "                prior = snake[i].copy()\n",
    "                snake[i][0] -= 1\n",
    "                continue\n",
    "            \n",
    "            tmp = snake[i].copy()\n",
    "            snake[i][0] = prior[0]\n",
    "            snake[i][1] = prior[1]\n",
    "            prior = tmp     \n",
    "        \n",
    "        snake_mode = 'vertical_down'\n",
    "            \n",
    "    return snake, snake_mode"
   ]
  },
  {
   "cell_type": "code",
   "execution_count": 243,
   "id": "8dde7857-ed1a-4084-a3ee-e8e1025f0904",
   "metadata": {},
   "outputs": [],
   "source": [
    "def check_snake_alive(snake, dims):\n",
    "    \n",
    "    if snake[0][0] >= dims[0] - 1 or snake[0][0] <= 0:\n",
    "        return False\n",
    "    \n",
    "    if snake[0][1] >= dims[1] - 1 or snake[0][1] <= 0:\n",
    "        return False\n",
    "    \n",
    "    if snake[0] in snake[1:]:\n",
    "        return False\n",
    "    \n",
    "    return True"
   ]
  },
  {
   "cell_type": "code",
   "execution_count": 173,
   "id": "7c69d76c-c09c-4c95-934c-883d02d86da3",
   "metadata": {},
   "outputs": [],
   "source": [
    "def update_board(snake, snake_board):\n",
    "    snake_board[snake_board == 0.5] = 0\n",
    "    snake_board[snake] == 0.5\n",
    "    return snake_board"
   ]
  },
  {
   "cell_type": "code",
   "execution_count": 250,
   "id": "1354390c-d3ae-4cd6-8f28-2cc3de3445c1",
   "metadata": {},
   "outputs": [],
   "source": [
    "def get_score(snake, score, fruit_pos):\n",
    "    if snake[0] == [fruit_pos]:\n",
    "        score += 10\n",
    "        fruit_spawn = False\n",
    "\n",
    "        snake_difference = snake[-1][0] - snake[-1-1][0], snake[-1][1] - snake[-1-1][1]\n",
    "\n",
    "        snake.append([snake[-1][0] + snake_difference[0], snake[-1][1] + snake_difference[1]])\n",
    "\n",
    "    else: \n",
    "        fruit_spawn = True\n",
    "    \n",
    "    return score, fruit_spawn"
   ]
  },
  {
   "cell_type": "code",
   "execution_count": 236,
   "id": "fb7c53f1-0df0-49e9-bca7-6782de552912",
   "metadata": {},
   "outputs": [],
   "source": [
    "def update_board(snake, snake_board, fruit_pos, score, game_over):\n",
    "    \n",
    "    snake_board[snake_board == 5] = 0\n",
    "    snake_board[snake_board == 10] = 0\n",
    "    \n",
    "    \n",
    "    # if game_over:\n",
    "    for i in snake:\n",
    "        snake_board[tuple(i)] = 5\n",
    "    \n",
    "    snake_board[fruit_pos] = 10\n",
    "    \n",
    "    plt.figure(figsize=(4,4))\n",
    "    plt.imshow(snake_board, cmap='gray')\n",
    "    plt.title('Snake Game', fontsize = 15)\n",
    "    plt.text(0.04, 1.5, 'Score = {:.0f}'.format(score), color='w', fontsize = 12)\n",
    "    if game_over:\n",
    "        plt.text(3, 10, 'GAME OVER', color='w', fontsize = 24, va='center')\n",
    "    plt.tight_layout()\n",
    "    plt.xticks([])\n",
    "    plt.yticks([])\n",
    "    plt.show()"
   ]
  },
  {
   "cell_type": "code",
   "execution_count": 176,
   "id": "9324eac4-e4fd-4f45-aaa2-e4d459ccd034",
   "metadata": {},
   "outputs": [],
   "source": [
    "def init_snake():\n",
    "    snake = (\n",
    "        [int((snake_board.shape[0]/2)), int(snake_board.shape[1]/2)],\n",
    "        [int((snake_board.shape[0]/2) - 1), int(snake_board.shape[1]/2)],\n",
    "        [int((snake_board.shape[0]/2) - 2), int(snake_board.shape[1]/2)],\n",
    "        [int((snake_board.shape[0]/2) - 3), int(snake_board.shape[1]/2)]\n",
    "    )\n",
    "    \n",
    "    return snake"
   ]
  },
  {
   "cell_type": "code",
   "execution_count": 259,
   "id": "37364ec1-2d4a-404a-be54-33560b770254",
   "metadata": {},
   "outputs": [],
   "source": [
    "def init_fruit(board_dims):\n",
    "    return np.random.randint(board_dims[0]), np.random.randint(board_dims[1])"
   ]
  },
  {
   "cell_type": "code",
   "execution_count": 264,
   "id": "9bf0e4c4-4c8c-428c-8f7e-175ae918e843",
   "metadata": {},
   "outputs": [
    {
     "name": "stdout",
     "output_type": "stream",
     "text": [
      "Move 9\n"
     ]
    },
    {
     "data": {
      "image/png": "[encoded data removed]",
      "text/plain": [
       "<Figure size 400x400 with 1 Axes>"
      ]
     },
     "metadata": {},
     "output_type": "display_data"
    }
   ],
   "source": [
    "num_steps = 500\n",
    "score = 0\n",
    "fruit_spawn = False\n",
    "snake_alive = True\n",
    "game_over = False\n",
    "snake_mode = 'vertical_up'\n",
    "move_tmp = 'bad'\n",
    "snake_board = np.zeros([10,10])\n",
    "snake = init_snake()\n",
    "fruit_pos = init_fruit(snake_board.shape)\n",
    "\n",
    "for i in range(num_steps):\n",
    "    clear_output(wait = True)\n",
    "    print(f'Move {i}')\n",
    "    \n",
    "    acceptable_moves = get_acceptable_moves(snake_mode)\n",
    "    \n",
    "    while move_tmp == 'bad':\n",
    "        step = np.random.randint(0,4)\n",
    "        if step in acceptable_moves:\n",
    "            move_tmp = 'good'\n",
    "    move_tmp = 'bad'\n",
    "        \n",
    "    snake, snake_mode = make_move(step, snake)\n",
    "    \n",
    "    snake_alive = check_snake_alive(snake, snake_board.shape)\n",
    "    \n",
    "    if not snake_alive:\n",
    "        game_over = True\n",
    "        \n",
    "    score, fruit_spawn = get_score(snake, score, fruit_pos)\n",
    "        \n",
    "    if not fruit_spawn:\n",
    "        fruit_pos = spawn_fruit(snake)\n",
    "        fruit_spawn = True\n",
    "    \n",
    "    update_board(snake, snake_board, fruit_pos, score, game_over)\n",
    "    \n",
    "    if game_over:\n",
    "        break\n",
    "    \n",
    "    time.sleep(0.1)"
   ]
  },
  {
   "cell_type": "code",
   "execution_count": null,
   "id": "aa7f0175-12ef-4163-b9c7-1b4f5b4f9f77",
   "metadata": {},
   "outputs": [],
   "source": []
  }
 ],
 "metadata": {
  "kernelspec": {
   "display_name": "Python 3 (ipykernel)",
   "language": "python",
   "name": "python3"
  },
  "language_info": {
   "codemirror_mode": {
    "name": "ipython",
    "version": 3
   },
   "file_extension": ".py",
   "mimetype": "text/x-python",
   "name": "python",
   "nbconvert_exporter": "python",
   "pygments_lexer": "ipython3",
   "version": "3.7.13"
  }
 },
 "nbformat": 4,
 "nbformat_minor": 5
}
